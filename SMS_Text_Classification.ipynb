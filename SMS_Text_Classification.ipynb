{
  "nbformat": 4,
  "nbformat_minor": 0,
  "metadata": {
    "colab": {
      "provenance": []
    },
    "kernelspec": {
      "name": "python3",
      "display_name": "Python 3"
    },
    "language_info": {
      "name": "python"
    }
  },
  "cells": [
    {
      "cell_type": "code",
      "execution_count": 1,
      "metadata": {
        "colab": {
          "base_uri": "https://localhost:8080/"
        },
        "id": "0eGywTnbw0oE",
        "outputId": "c59d405d-affb-435a-bf51-0a63c93d76c6"
      },
      "outputs": [
        {
          "output_type": "stream",
          "name": "stdout",
          "text": [
            "--2024-04-17 11:49:38--  https://cdn.freecodecamp.org/project-data/sms/train-data.tsv\n",
            "Resolving cdn.freecodecamp.org (cdn.freecodecamp.org)... 104.26.3.33, 172.67.70.149, 104.26.2.33, ...\n",
            "Connecting to cdn.freecodecamp.org (cdn.freecodecamp.org)|104.26.3.33|:443... connected.\n",
            "HTTP request sent, awaiting response... 200 OK\n",
            "Length: 358233 (350K) [text/tab-separated-values]\n",
            "Saving to: ‘train-data.tsv’\n",
            "\n",
            "train-data.tsv      100%[===================>] 349.84K  --.-KB/s    in 0.03s   \n",
            "\n",
            "2024-04-17 11:49:38 (10.8 MB/s) - ‘train-data.tsv’ saved [358233/358233]\n",
            "\n",
            "--2024-04-17 11:49:38--  https://cdn.freecodecamp.org/project-data/sms/valid-data.tsv\n",
            "Resolving cdn.freecodecamp.org (cdn.freecodecamp.org)... 104.26.3.33, 172.67.70.149, 104.26.2.33, ...\n",
            "Connecting to cdn.freecodecamp.org (cdn.freecodecamp.org)|104.26.3.33|:443... connected.\n",
            "HTTP request sent, awaiting response... 200 OK\n",
            "Length: 118774 (116K) [text/tab-separated-values]\n",
            "Saving to: ‘valid-data.tsv’\n",
            "\n",
            "valid-data.tsv      100%[===================>] 115.99K  --.-KB/s    in 0.02s   \n",
            "\n",
            "2024-04-17 11:49:38 (5.40 MB/s) - ‘valid-data.tsv’ saved [118774/118774]\n",
            "\n"
          ]
        }
      ],
      "source": [
        "import tensorflow as tf\n",
        "import pandas as pd\n",
        "from tensorflow.keras.preprocessing.text import Tokenizer\n",
        "from tensorflow.keras.preprocessing.sequence import pad_sequences\n",
        "import numpy as np\n",
        "\n",
        "# get data files\n",
        "!wget https://cdn.freecodecamp.org/project-data/sms/train-data.tsv\n",
        "!wget https://cdn.freecodecamp.org/project-data/sms/valid-data.tsv\n",
        "\n",
        "train_file_path = \"train-data.tsv\"\n",
        "test_file_path = \"valid-data.tsv\"\n",
        "\n",
        "# Load data\n",
        "train_df = pd.read_csv('train-data.tsv', sep='\\t', header=None, names=['label', 'message'])\n",
        "test_df = pd.read_csv('valid-data.tsv', sep='\\t', header=None, names=['label', 'message'])\n",
        "\n",
        "# Convert labels to numerical values\n",
        "label_map = {'ham': 0, 'spam': 1}\n",
        "train_df['label'] = train_df['label'].map(label_map)\n",
        "test_df['label'] = test_df['label'].map(label_map)\n",
        "\n",
        "# Tokenize text\n",
        "tokenizer = Tokenizer()\n",
        "tokenizer.fit_on_texts(train_df['message'])\n",
        "train_sequences = tokenizer.texts_to_sequences(train_df['message'])\n",
        "test_sequences = tokenizer.texts_to_sequences(test_df['message'])\n",
        "\n",
        "# Pad sequences to ensure uniform input size\n",
        "max_length = max(len(x) for x in train_sequences)\n",
        "train_padded = pad_sequences(train_sequences, maxlen=max_length, padding='post')\n",
        "test_padded = pad_sequences(test_sequences, maxlen=max_length, padding='post')\n",
        "\n",
        "# Convert to numpy arrays\n",
        "train_labels = np.array(train_df['label'])\n",
        "test_labels = np.array(test_df['label'])\n"
      ]
    },
    {
      "cell_type": "code",
      "source": [
        "model = tf.keras.Sequential([\n",
        "    tf.keras.layers.Embedding(input_dim=len(tokenizer.word_index)+1, output_dim=32, input_length=max_length),\n",
        "    tf.keras.layers.Dropout(0.2),\n",
        "    tf.keras.layers.GlobalAveragePooling1D(),\n",
        "    tf.keras.layers.Dense(48, activation='relu'),\n",
        "    tf.keras.layers.Dropout(0.2),\n",
        "    tf.keras.layers.Dense(24, activation='relu'),\n",
        "    tf.keras.layers.Dense(1, activation='sigmoid')\n",
        "])\n",
        "\n",
        "model.compile(loss='binary_crossentropy', optimizer='adam', metrics=['accuracy'])\n",
        "model.summary()\n"
      ],
      "metadata": {
        "colab": {
          "base_uri": "https://localhost:8080/"
        },
        "id": "QORvtXndw2Ap",
        "outputId": "8344f577-2325-45cf-eed8-99accecdc40b"
      },
      "execution_count": 2,
      "outputs": [
        {
          "output_type": "stream",
          "name": "stdout",
          "text": [
            "Model: \"sequential\"\n",
            "_________________________________________________________________\n",
            " Layer (type)                Output Shape              Param #   \n",
            "=================================================================\n",
            " embedding (Embedding)       (None, 189, 32)           246176    \n",
            "                                                                 \n",
            " dropout (Dropout)           (None, 189, 32)           0         \n",
            "                                                                 \n",
            " global_average_pooling1d (  (None, 32)                0         \n",
            " GlobalAveragePooling1D)                                         \n",
            "                                                                 \n",
            " dense (Dense)               (None, 48)                1584      \n",
            "                                                                 \n",
            " dropout_1 (Dropout)         (None, 48)                0         \n",
            "                                                                 \n",
            " dense_1 (Dense)             (None, 24)                1176      \n",
            "                                                                 \n",
            " dense_2 (Dense)             (None, 1)                 25        \n",
            "                                                                 \n",
            "=================================================================\n",
            "Total params: 248961 (972.50 KB)\n",
            "Trainable params: 248961 (972.50 KB)\n",
            "Non-trainable params: 0 (0.00 Byte)\n",
            "_________________________________________________________________\n"
          ]
        }
      ]
    },
    {
      "cell_type": "code",
      "source": [
        "history = model.fit(train_padded, train_labels, epochs=10, validation_data=(test_padded, test_labels))\n"
      ],
      "metadata": {
        "colab": {
          "base_uri": "https://localhost:8080/"
        },
        "id": "MsZYHwfjw56z",
        "outputId": "bc4a6378-801a-43a7-a408-8c780b13d1aa"
      },
      "execution_count": 3,
      "outputs": [
        {
          "output_type": "stream",
          "name": "stdout",
          "text": [
            "Epoch 1/10\n",
            "131/131 [==============================] - 3s 12ms/step - loss: 0.4603 - accuracy: 0.8631 - val_loss: 0.3778 - val_accuracy: 0.8657\n",
            "Epoch 2/10\n",
            "131/131 [==============================] - 2s 14ms/step - loss: 0.3690 - accuracy: 0.8660 - val_loss: 0.3537 - val_accuracy: 0.8657\n",
            "Epoch 3/10\n",
            "131/131 [==============================] - 2s 13ms/step - loss: 0.3202 - accuracy: 0.8660 - val_loss: 0.2599 - val_accuracy: 0.8657\n",
            "Epoch 4/10\n",
            "131/131 [==============================] - 1s 10ms/step - loss: 0.1647 - accuracy: 0.9289 - val_loss: 0.1006 - val_accuracy: 0.9677\n",
            "Epoch 5/10\n",
            "131/131 [==============================] - 1s 9ms/step - loss: 0.0623 - accuracy: 0.9842 - val_loss: 0.0630 - val_accuracy: 0.9820\n",
            "Epoch 6/10\n",
            "131/131 [==============================] - 1s 9ms/step - loss: 0.0403 - accuracy: 0.9907 - val_loss: 0.0520 - val_accuracy: 0.9820\n",
            "Epoch 7/10\n",
            "131/131 [==============================] - 1s 9ms/step - loss: 0.0321 - accuracy: 0.9909 - val_loss: 0.0492 - val_accuracy: 0.9842\n",
            "Epoch 8/10\n",
            "131/131 [==============================] - 1s 10ms/step - loss: 0.0241 - accuracy: 0.9928 - val_loss: 0.0526 - val_accuracy: 0.9849\n",
            "Epoch 9/10\n",
            "131/131 [==============================] - 1s 9ms/step - loss: 0.0196 - accuracy: 0.9940 - val_loss: 0.0465 - val_accuracy: 0.9856\n",
            "Epoch 10/10\n",
            "131/131 [==============================] - 1s 9ms/step - loss: 0.0167 - accuracy: 0.9950 - val_loss: 0.0569 - val_accuracy: 0.9849\n"
          ]
        }
      ]
    },
    {
      "cell_type": "code",
      "source": [
        "def predict_message(pred_text):\n",
        "    sequence = tokenizer.texts_to_sequences([pred_text])\n",
        "    padded = pad_sequences(sequence, maxlen=max_length, padding='post')\n",
        "    prediction = model.predict(padded)[0][0]\n",
        "    return [prediction, 'ham' if prediction < 0.5 else 'spam']\n",
        "\n",
        "# Example use\n",
        "pred_text = \"how are you doing today?\"\n",
        "prediction = predict_message(pred_text)\n",
        "print(prediction)\n"
      ],
      "metadata": {
        "colab": {
          "base_uri": "https://localhost:8080/"
        },
        "id": "5aw7IAwexGhP",
        "outputId": "5c129393-6964-47d4-9932-d32d3426a092"
      },
      "execution_count": 4,
      "outputs": [
        {
          "output_type": "stream",
          "name": "stdout",
          "text": [
            "1/1 [==============================] - 0s 115ms/step\n",
            "[0.0071972897, 'ham']\n"
          ]
        }
      ]
    },
    {
      "cell_type": "code",
      "source": [
        "def test_predictions():\n",
        "    test_messages = [\n",
        "        \"how are you doing today\",\n",
        "        \"sale today! to stop texts call 98912460324\",\n",
        "        \"i dont want to go. can we try it a different day? available sat\",\n",
        "        \"our new mobile video service is live. just install on your phone to start watching.\",\n",
        "        \"you have won £1000 cash! call to claim your prize.\",\n",
        "        \"i'll bring it tomorrow. don't forget the milk.\",\n",
        "        \"wow, is your arm alright. that happened to me one time too\"\n",
        "    ]\n",
        "\n",
        "    test_answers = [\"ham\", \"spam\", \"ham\", \"spam\", \"spam\", \"ham\", \"ham\"]\n",
        "    passed = True\n",
        "\n",
        "    for msg, ans in zip(test_messages, test_answers):\n",
        "        prediction = predict_message(msg)\n",
        "        if prediction[1] != ans:\n",
        "            passed = False\n",
        "\n",
        "    if passed:\n",
        "        print(\"You passed the challenge. Great job!\")\n",
        "    else:\n",
        "        print(\"You haven't passed yet. Keep trying.\")\n",
        "\n",
        "test_predictions()\n"
      ],
      "metadata": {
        "colab": {
          "base_uri": "https://localhost:8080/"
        },
        "id": "ZBMRMcfpxLUR",
        "outputId": "49d5e54c-13fe-465b-d79f-d70cc8012bac"
      },
      "execution_count": 5,
      "outputs": [
        {
          "output_type": "stream",
          "name": "stdout",
          "text": [
            "1/1 [==============================] - 0s 20ms/step\n",
            "1/1 [==============================] - 0s 20ms/step\n",
            "1/1 [==============================] - 0s 20ms/step\n",
            "1/1 [==============================] - 0s 21ms/step\n",
            "1/1 [==============================] - 0s 24ms/step\n",
            "1/1 [==============================] - 0s 21ms/step\n",
            "1/1 [==============================] - 0s 20ms/step\n",
            "You passed the challenge. Great job!\n"
          ]
        }
      ]
    },
    {
      "cell_type": "code",
      "source": [
        "from sklearn.metrics import confusion_matrix\n",
        "\n",
        "test_messages = [\n",
        "        \"how are you doing today\",\n",
        "        \"sale today! to stop texts call 98912460324\",\n",
        "        \"i dont want to go. can we try it a different day? available sat\",\n",
        "        \"our new mobile video service is live. just install on your phone to start watching.\",\n",
        "        \"you have won £1000 cash! call to claim your prize.\",\n",
        "        \"i'll bring it tomorrow. don't forget the milk.\",\n",
        "        \"wow, is your arm alright. that happened to me one time too\"\n",
        "    ]\n",
        "\n",
        "test_answers = [\"ham\", \"spam\", \"ham\", \"spam\", \"spam\", \"ham\", \"ham\"]\n",
        "\n",
        "# Assuming you have a list of predictions and actuals\n",
        "predictions = [predict_message(msg)[1] for msg in test_messages]\n",
        "actuals = test_answers\n",
        "\n",
        "# Generate the confusion matrix\n",
        "cm = confusion_matrix(actuals, predictions, labels=[\"ham\", \"spam\"])\n",
        "print(cm)\n"
      ],
      "metadata": {
        "colab": {
          "base_uri": "https://localhost:8080/"
        },
        "id": "IlJlGpvmxk-K",
        "outputId": "d3558919-4a2c-4139-a2c7-12ee0a74c8d9"
      },
      "execution_count": 6,
      "outputs": [
        {
          "output_type": "stream",
          "name": "stdout",
          "text": [
            "1/1 [==============================] - 0s 30ms/step\n",
            "1/1 [==============================] - 0s 22ms/step\n",
            "1/1 [==============================] - 0s 20ms/step\n",
            "1/1 [==============================] - 0s 21ms/step\n",
            "1/1 [==============================] - 0s 22ms/step\n",
            "1/1 [==============================] - 0s 21ms/step\n",
            "1/1 [==============================] - 0s 22ms/step\n",
            "[[4 0]\n",
            " [0 3]]\n"
          ]
        }
      ]
    },
    {
      "cell_type": "code",
      "source": [
        "from sklearn.metrics import confusion_matrix\n",
        "import numpy as np\n",
        "\n",
        "# Assume `predict_message` function is already defined and properly returns [probability, 'ham'/'spam']\n",
        "\n",
        "test_messages = [\n",
        "    \"how are you doing today\",\n",
        "    \"sale today! to stop texts call 98912460324\",\n",
        "    \"i dont want to go. can we try it a different day? available sat\",\n",
        "    \"our new mobile video service is live. just install on your phone to start watching.\",\n",
        "    \"you have won £1000 cash! call to claim your prize.\",\n",
        "    \"i'll bring it tomorrow. don't forget the milk.\",\n",
        "    \"wow, is your arm alright. that happened to me one time too\"\n",
        "]\n",
        "\n",
        "test_answers = [\"ham\", \"spam\", \"ham\", \"spam\", \"spam\", \"ham\", \"ham\"]\n",
        "\n",
        "# List to hold predictions and scores\n",
        "predictions = []\n",
        "scores = []\n",
        "\n",
        "for msg in test_messages:\n",
        "    prediction = predict_message(msg)\n",
        "    predictions.append(prediction[1])  # Add predicted label to predictions list\n",
        "    scores.append(prediction[0])       # Add probability score to scores list\n",
        "\n",
        "# Generate the confusion matrix\n",
        "cm = confusion_matrix(test_answers, predictions, labels=[\"ham\", \"spam\"])\n",
        "print(\"Confusion Matrix:\")\n",
        "print(cm)\n",
        "\n",
        "# Display detailed output\n",
        "print(\"\\nDetailed Classification Report:\")\n",
        "for msg, actual, pred, score in zip(test_messages, test_answers, predictions, scores):\n",
        "    print(f\"Message: '{msg}'\\nPredicted: {pred} (Score: {score:.4f}), Actual: {actual}\\n\")\n",
        "\n"
      ],
      "metadata": {
        "colab": {
          "base_uri": "https://localhost:8080/"
        },
        "id": "hBvYTOa05NP4",
        "outputId": "49c32e59-cc4c-4c3a-bc3a-4df938ea5ac3"
      },
      "execution_count": 7,
      "outputs": [
        {
          "output_type": "stream",
          "name": "stdout",
          "text": [
            "1/1 [==============================] - 0s 21ms/step\n",
            "1/1 [==============================] - 0s 25ms/step\n",
            "1/1 [==============================] - 0s 21ms/step\n",
            "1/1 [==============================] - 0s 22ms/step\n",
            "1/1 [==============================] - 0s 21ms/step\n",
            "1/1 [==============================] - 0s 21ms/step\n",
            "1/1 [==============================] - 0s 21ms/step\n",
            "Confusion Matrix:\n",
            "[[4 0]\n",
            " [0 3]]\n",
            "\n",
            "Detailed Classification Report:\n",
            "Message: 'how are you doing today'\n",
            "Predicted: ham (Score: 0.0072), Actual: ham\n",
            "\n",
            "Message: 'sale today! to stop texts call 98912460324'\n",
            "Predicted: spam (Score: 0.8850), Actual: spam\n",
            "\n",
            "Message: 'i dont want to go. can we try it a different day? available sat'\n",
            "Predicted: ham (Score: 0.0021), Actual: ham\n",
            "\n",
            "Message: 'our new mobile video service is live. just install on your phone to start watching.'\n",
            "Predicted: spam (Score: 0.9950), Actual: spam\n",
            "\n",
            "Message: 'you have won £1000 cash! call to claim your prize.'\n",
            "Predicted: spam (Score: 0.9971), Actual: spam\n",
            "\n",
            "Message: 'i'll bring it tomorrow. don't forget the milk.'\n",
            "Predicted: ham (Score: 0.0012), Actual: ham\n",
            "\n",
            "Message: 'wow, is your arm alright. that happened to me one time too'\n",
            "Predicted: ham (Score: 0.0043), Actual: ham\n",
            "\n"
          ]
        }
      ]
    },
    {
      "cell_type": "code",
      "source": [],
      "metadata": {
        "id": "hI091A3B7kRW"
      },
      "execution_count": 7,
      "outputs": []
    }
  ]
}